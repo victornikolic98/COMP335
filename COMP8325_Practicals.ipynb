{
  "nbformat": 4,
  "nbformat_minor": 0,
  "metadata": {
    "colab": {
      "name": "COMP8325 Practicals",
      "provenance": [],
      "authorship_tag": "ABX9TyOj16HNbX3bIRQOYANUg6V9",
      "include_colab_link": true
    },
    "kernelspec": {
      "name": "python3",
      "display_name": "Python 3"
    }
  },
  "cells": [
    {
      "cell_type": "markdown",
      "metadata": {
        "id": "view-in-github",
        "colab_type": "text"
      },
      "source": [
        "<a href=\"https://colab.research.google.com/github/victornikolic98/COMP335/blob/master/COMP8325_Practicals.ipynb\" target=\"_parent\"><img src=\"https://colab.research.google.com/assets/colab-badge.svg\" alt=\"Open In Colab\"/></a>"
      ]
    },
    {
      "cell_type": "markdown",
      "metadata": {
        "id": "UW2LmvtfqFnB"
      },
      "source": [
        "Week 1"
      ]
    },
    {
      "cell_type": "code",
      "metadata": {
        "id": "jriQcMjAqCsM"
      },
      "source": [
        "import numpy as np\n",
        "import matplotlib.pyplot as plt\n",
        "\n",
        "\n",
        "\n"
      ],
      "execution_count": null,
      "outputs": []
    },
    {
      "cell_type": "code",
      "metadata": {
        "id": "fN6xryn85GWA"
      },
      "source": [
        "# Task 1\n",
        "def gaussian(x, mu, sig):\n",
        "    return 1./(np.sqrt(2.*np.pi)*sig)*np.exp(-np.power((x - mu)/sig, 2.)/2)\n"
      ],
      "execution_count": null,
      "outputs": []
    },
    {
      "cell_type": "code",
      "metadata": {
        "colab": {
          "base_uri": "https://localhost:8080/"
        },
        "id": "T5TtHPaU5Sdq",
        "outputId": "ac2c1d47-4046-461b-d64b-7514f660fadb"
      },
      "source": [
        "# Task 2\n",
        "mu, sigma = 0, 0.1\n",
        "\n",
        "x = np.random.normal(mu, sigma, 100)\n",
        "\n",
        "count, bins, ignored = plt.hist(x, 100, density=True)\n",
        "plt.plot(bins, gaussian(bins, mu, sigma), linewidth=2, color='r')\n",
        "plt.show()\n"
      ],
      "execution_count": null,
      "outputs": [
        {
          "output_type": "display_data",
          "data": {
            "image/png": "[encoded data removed]",
            "text/plain": [
              "<Figure size 432x288 with 1 Axes>"
            ]
          },
          "metadata": {
            "tags": [],
            "needs_background": "light"
          }
        }
      ]
    }
  ]
}